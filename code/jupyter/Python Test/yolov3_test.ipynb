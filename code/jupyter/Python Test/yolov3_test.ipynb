{
 "cells": [
  {
   "cell_type": "code",
   "execution_count": 3,
   "id": "224d071d",
   "metadata": {},
   "outputs": [],
   "source": [
    "import cv2\n",
    "import numpy as np"
   ]
  },
  {
   "cell_type": "code",
   "execution_count": 4,
   "id": "f48cd7f3",
   "metadata": {},
   "outputs": [],
   "source": [
    "import matplotlib.pyplot as plt\n",
    "# 将绘制出的图像直接嵌入notebook单元格中\n",
    "%matplotlib inline\n",
    "# 定义可视化图像函数\n",
    "def look_img(img):\n",
    "    ''' opencv读入图像格式为BGR，matplotlib可视化格式为RGB，因此需将BGR转RGB '''\n",
    "    img_RGB = cv2.cvtColor(img, cv2.COLOR_BGR2RGB)\n",
    "    plt.imshow(img_RGB)\n",
    "    plt.show()"
   ]
  },
  {
   "cell_type": "code",
   "execution_count": null,
   "id": "7bf41730",
   "metadata": {},
   "outputs": [],
   "source": [
    "# 导入预训练YOLOV3模型\n",
    "net = cv2.dnn.readNet('yolov3.weights', 'yolov3.cfg')"
   ]
  },
  {
   "cell_type": "code",
   "execution_count": null,
   "id": "c0125cd8",
   "metadata": {},
   "outputs": [],
   "source": [
    "# 导入类别\n",
    "with open('coco.names', 'r') as f:\n",
    "    classes = f.read().splitlines()"
   ]
  },
  {
   "cell_type": "code",
   "execution_count": null,
   "id": "25e83865",
   "metadata": {},
   "outputs": [],
   "source": [
    "classes"
   ]
  },
  {
   "cell_type": "code",
   "execution_count": null,
   "id": "6830d2c5",
   "metadata": {},
   "outputs": [],
   "source": [
    "# 导入图像\n",
    "img = cv2.imread('test.jpg')"
   ]
  },
  {
   "cell_type": "code",
   "execution_count": null,
   "id": "9a2bc1a0",
   "metadata": {},
   "outputs": [],
   "source": [
    "look_img(img)"
   ]
  },
  {
   "cell_type": "code",
   "execution_count": null,
   "id": "53e073a1",
   "metadata": {},
   "outputs": [],
   "source": [
    "img.shape"
   ]
  },
  {
   "cell_type": "code",
   "execution_count": null,
   "id": "7e51c41a",
   "metadata": {},
   "outputs": [],
   "source": [
    "# 获取图像宽高\n",
    "height, width, _ = img.shape"
   ]
  },
  {
   "cell_type": "code",
   "execution_count": null,
   "id": "8f0bfb2b",
   "metadata": {},
   "outputs": [],
   "source": [
    "# 对图像预处理\n",
    "blob = cv2.dnn.blobFromImage(img, 1/255, (416,416), (0,0,0), swapRB=True, crop=False)"
   ]
  },
  {
   "cell_type": "code",
   "execution_count": null,
   "id": "a3f59b82",
   "metadata": {},
   "outputs": [],
   "source": [
    "blob.shape"
   ]
  },
  {
   "cell_type": "code",
   "execution_count": null,
   "id": "98cd9594",
   "metadata": {},
   "outputs": [],
   "source": [
    "net.setInput(blob)"
   ]
  },
  {
   "cell_type": "code",
   "execution_count": null,
   "id": "2dd5fbd1",
   "metadata": {},
   "outputs": [],
   "source": [
    "# 获取网络所有层名字\n",
    "net.getLayerNames()"
   ]
  },
  {
   "cell_type": "code",
   "execution_count": null,
   "id": "f8b1df88",
   "metadata": {},
   "outputs": [],
   "source": [
    "# 获取某一层的权重值\n",
    "net.getParam('conv_14').shape"
   ]
  },
  {
   "cell_type": "code",
   "execution_count": null,
   "id": "08b7549a",
   "metadata": {},
   "outputs": [],
   "source": [
    "# 获取三个尺度输出层的索引号\n",
    "net.getUnconnectedOutLayers()"
   ]
  },
  {
   "cell_type": "code",
   "execution_count": 5,
   "id": "d2e4c108",
   "metadata": {},
   "outputs": [
    {
     "ename": "NameError",
     "evalue": "name 'net' is not defined",
     "output_type": "error",
     "traceback": [
      "\u001b[1;31m---------------------------------------------------------------------------\u001b[0m",
      "\u001b[1;31mNameError\u001b[0m                                 Traceback (most recent call last)",
      "Cell \u001b[1;32mIn[5], line 2\u001b[0m\n\u001b[0;32m      1\u001b[0m \u001b[38;5;66;03m# 获取三个尺度输出层的名称\u001b[39;00m\n\u001b[1;32m----> 2\u001b[0m layersNames \u001b[38;5;241m=\u001b[39m \u001b[43mnet\u001b[49m\u001b[38;5;241m.\u001b[39mgetLayerNames()\n\u001b[0;32m      3\u001b[0m output_layers_names \u001b[38;5;241m=\u001b[39m [layersNames[i[\u001b[38;5;241m0\u001b[39m] \u001b[38;5;241m-\u001b[39m \u001b[38;5;241m1\u001b[39m] \u001b[38;5;28;01mfor\u001b[39;00m i \u001b[38;5;129;01min\u001b[39;00m net\u001b[38;5;241m.\u001b[39mgetUnconnectedOutLayers()]\n",
      "\u001b[1;31mNameError\u001b[0m: name 'net' is not defined"
     ]
    }
   ],
   "source": [
    "# 获取三个尺度输出层的名称\n",
    "layersNames = net.getLayerNames()\n",
    "output_layers_names = [layersNames[i[0] - 1] for i in net.getUnconnectedOutLayers()]\n",
    "output_layers_names"
   ]
  },
  {
   "cell_type": "code",
   "execution_count": null,
   "id": "ac8e1ce2",
   "metadata": {},
   "outputs": [],
   "source": [
    "# 前向推断\n",
    "prediction = net.forward(output_layers_names)"
   ]
  },
  {
   "cell_type": "code",
   "execution_count": null,
   "id": "d9d51610",
   "metadata": {},
   "outputs": [],
   "source": [
    "# 分析三个尺度输出结果\n",
    "len(prediction)"
   ]
  },
  {
   "cell_type": "code",
   "execution_count": null,
   "id": "34ed8298",
   "metadata": {},
   "outputs": [],
   "source": [
    "prediction[0].shape"
   ]
  },
  {
   "cell_type": "code",
   "execution_count": null,
   "id": "66aceb1d",
   "metadata": {},
   "outputs": [],
   "source": [
    "prediction[1].shape"
   ]
  },
  {
   "cell_type": "code",
   "execution_count": null,
   "id": "38c8cd82",
   "metadata": {},
   "outputs": [],
   "source": [
    "prediction[2].shape"
   ]
  },
  {
   "cell_type": "code",
   "execution_count": null,
   "id": "e242b459",
   "metadata": {},
   "outputs": [],
   "source": [
    "# 查看第二个尺度，索引为99的框的85维向量\n",
    "prediction[1][99].shape"
   ]
  },
  {
   "cell_type": "code",
   "execution_count": null,
   "id": "b9f70cd8",
   "metadata": {},
   "outputs": [],
   "source": [
    "prediction[1][99]"
   ]
  },
  {
   "cell_type": "code",
   "execution_count": null,
   "id": "68742c0b",
   "metadata": {},
   "outputs": [],
   "source": [
    "# 从三个尺度输出结果中解析所有预测框信息\n",
    "\n",
    "# 存放预测框坐标\n",
    "boxes = []\n",
    "\n",
    "# 存放置信度\n",
    "objectness = []\n",
    "\n",
    "# 存放预测框类别索引号\n",
    "class_ids = []\n",
    "\n",
    "# 存放预测框类别名称\n",
    "class_names = []"
   ]
  },
  {
   "cell_type": "code",
   "execution_count": null,
   "id": "d4a0647a",
   "metadata": {},
   "outputs": [],
   "source": [
    "for scale in prediction:  # 遍历三种尺度\n",
    "    for bbox in scale:    # 遍历每个预测框\n",
    "        obj = bbox[4]     # 获取该预测框的confidence(objectness)\n",
    "        class_scores = bbox[5:]  # 获取该预测框在COCO数据集80个类别的概率\n",
    "        class_id = np.argmax(class_scores)  # 获取概率最高类别的索引号\n",
    "        class_name = classes[class_id]  # 获取概率最高类别的名称\n",
    "        class_prob = class_scores[class_id]  # 获取概率最高类别的概率"
   ]
  }
 ],
 "metadata": {
  "kernelspec": {
   "display_name": "Python 3 (ipykernel)",
   "language": "python",
   "name": "python3"
  },
  "language_info": {
   "codemirror_mode": {
    "name": "ipython",
    "version": 3
   },
   "file_extension": ".py",
   "mimetype": "text/x-python",
   "name": "python",
   "nbconvert_exporter": "python",
   "pygments_lexer": "ipython3",
   "version": "3.11.5"
  }
 },
 "nbformat": 4,
 "nbformat_minor": 5
}

{
 "cells": [
  {
   "cell_type": "code",
   "execution_count": 3,
   "id": "virtual-sheriff",
   "metadata": {},
   "outputs": [],
   "source": [
    "import torch\n",
    "from torch import optim, nn\n",
    "from torch.utils.data import DataLoader\n",
    "\n",
    "from mydataset import MyDataset\n",
    "from model import GoogLeNet\n",
    "\n",
    "batchsz = 20\n",
    "lr = 1e-3\n",
    "epochs = 10\n",
    "\n",
    "device = torch.device('cuda')\n",
    "\n",
    "root = \"E:\\\\ai_learning_resource\\\\hwdb\\\\HWDB1\\\\train\"\n",
    "root_ = \"E:\\\\ai_learning_resource\\\\hwdb\\\\HWDB1\\\\test\"\n",
    "train_db = MyDataset(root, 224, 200, mode='train')\n",
    "val_db = MyDataset(root, 224, 200, mode='val')\n",
    "# test_db = MyDataset(root_, 224, 50, mode='test')\n",
    "\n",
    "train_loader = DataLoader(train_db, batch_size=batchsz, shuffle=True, num_workers=8)\n",
    "val_loader = DataLoader(val_db, batch_size=batchsz, num_workers=8)\n",
    "# test_loader = DataLoader(test_db, batch_size=batchsz, num_workers=8)\n"
   ]
  },
  {
   "cell_type": "code",
   "execution_count": null,
   "id": "unlimited-train",
   "metadata": {},
   "outputs": [
    {
     "name": "stdout",
     "output_type": "stream",
     "text": [
      "start\n"
     ]
    }
   ],
   "source": [
    "def evalute(model, loader):\n",
    "    correct = 0\n",
    "    total = len(loader.dataset)\n",
    "    for x, y in loader:\n",
    "        x, y = x.to(device), y.to(device)\n",
    "        with torch.no_grad():\n",
    "            logits = model(x)\n",
    "            pred = logits.argmax(dim=1)\n",
    "        correct += torch.eq(pred, y).sum().float().item()\n",
    "    return correct / total\n",
    "\n",
    "\n",
    "model = GoogLeNet(num_classes=50, aux_logits=True, init_weights=True).to(device)\n",
    "optimizer = optim.Adam(model.parameters(), lr=lr)\n",
    "scheduler = torch.optim.lr_scheduler.ExponentialLR(optimizer, gamma=0.9)\n",
    "criterion = nn.CrossEntropyLoss().to(device)\n",
    "\n",
    "validation_acc = []\n",
    "best_acc, best_epoch = 0, 0\n",
    "global_step = 0\n",
    "\n",
    "for epoch in range(epochs):\n",
    "    model.train()  # 训练模式\n",
    "    total_batch_loss = 0\n",
    "    print('start')\n",
    "    for batchidx, (x, label) in enumerate(train_loader):\n",
    "        # print('one')\n",
    "        x, label = x.to(device), label.to(device)\n",
    "        logits, aux_logits2, aux_logits1 = model(x)\n",
    "\n",
    "        loss0 = criterion(logits, label)\n",
    "        loss1 = criterion(aux_logits1, label)\n",
    "        loss2 = criterion(aux_logits2, label)\n",
    "        print(label)\n",
    "        # logits: [b, 10]\n",
    "        # label:  [b]\n",
    "        loss = loss0 + loss1 * 0.3 + loss2 * 0.3\n",
    "        total_batch_loss += loss.item()\n",
    "        # 梯度清零\n",
    "        optimizer.zero_grad()\n",
    "        # 计算梯度\n",
    "        loss.backward()\n",
    "        # 更新参数\n",
    "        optimizer.step()\n",
    "\n",
    "    # eval模式\n",
    "    model.eval()\n",
    "    val_acc = evalute(model, val_loader)\n",
    "    # if val_acc > best_acc:\n",
    "    #     best_epoch = epoch\n",
    "    #     best_acc = val_acc\n",
    "    #     torch.save(model.state_dict(), 'best.mdl')\n",
    "\n",
    "    scheduler.step()  # 调整学习率\n",
    "    print(\"epoch: \", epoch, \"epoch_loss: \", total_batch_loss, \"epoch_acc:\", val_acc)\n",
    "\n",
    "# print('best acc:', best_acc, 'best epoch:', best_epoch)\n",
    "#\n",
    "# model.load_state_dict(torch.load('best.mdl'))\n",
    "# print('loaded from ckpt!')\n",
    "#\n",
    "# test_acc = evalute(model, test_loader)\n",
    "# print('test acc:', test_acc)"
   ]
  }
 ],
 "metadata": {
  "kernelspec": {
   "display_name": "mytorch",
   "language": "python",
   "name": "mytorch"
  },
  "language_info": {
   "codemirror_mode": {
    "name": "ipython",
    "version": 3
   },
   "file_extension": ".py",
   "mimetype": "text/x-python",
   "name": "python",
   "nbconvert_exporter": "python",
   "pygments_lexer": "ipython3",
   "version": "3.8.8"
  }
 },
 "nbformat": 4,
 "nbformat_minor": 5
}

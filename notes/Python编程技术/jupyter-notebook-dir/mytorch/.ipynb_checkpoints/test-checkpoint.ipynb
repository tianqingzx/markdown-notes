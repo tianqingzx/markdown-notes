{
 "cells": [
  {
   "cell_type": "code",
   "execution_count": 2,
   "id": "neural-programming",
   "metadata": {},
   "outputs": [
    {
     "name": "stdout",
     "output_type": "stream",
     "text": [
      "tensor([[ 0.2707, -0.6566,  1.0475, -0.3932,  0.1169, -0.4926, -0.0718, -0.1703,\n",
      "         -1.2867,  2.3132, -0.2732, -0.2201, -0.4770, -0.3888, -1.2975,  0.1389,\n",
      "          0.7106,  1.3287],\n",
      "        [ 0.9396,  1.4066,  0.1282, -0.7151, -0.0310, -0.6161,  0.2674, -0.2252,\n",
      "         -0.4493,  0.6201,  2.6026,  1.4485, -1.0098,  0.7922,  0.1196,  0.0795,\n",
      "          0.5988, -0.7323]])\n",
      "tensor([[ 0.2707, -0.6566,  1.0475, -0.3932,  0.1169, -0.4926, -0.0718, -0.1703,\n",
      "         -1.2867,  2.3132, -0.2732, -0.2201, -0.4770, -0.3888, -1.2975,  0.1389,\n",
      "          0.7106,  1.3287],\n",
      "        [ 0.9396,  1.4066,  0.1282, -0.7151, -0.0310, -0.6161,  0.2674, -0.2252,\n",
      "         -0.4493,  0.6201,  2.6026,  1.4485, -1.0098,  0.7922,  0.1196,  0.0795,\n",
      "          0.5988, -0.7323]])\n"
     ]
    }
   ],
   "source": [
    "import torch\n",
    "\n",
    "\n",
    "a = torch.randn(2, 2, 3, 3)\n",
    "print(a.view(2, 18))\n",
    "print(a.view(-1, 18))"
   ]
  }
 ],
 "metadata": {
  "hide_input": false,
  "kernelspec": {
   "display_name": "myenv",
   "language": "python",
   "name": "myenv"
  },
  "language_info": {
   "codemirror_mode": {
    "name": "ipython",
    "version": 3
   },
   "file_extension": ".py",
   "mimetype": "text/x-python",
   "name": "python",
   "nbconvert_exporter": "python",
   "pygments_lexer": "ipython3",
   "version": "3.8.5"
  },
  "toc": {
   "base_numbering": 1,
   "nav_menu": {},
   "number_sections": true,
   "sideBar": true,
   "skip_h1_title": false,
   "title_cell": "Table of Contents",
   "title_sidebar": "Contents",
   "toc_cell": false,
   "toc_position": {},
   "toc_section_display": true,
   "toc_window_display": false
  },
  "varInspector": {
   "cols": {
    "lenName": 16,
    "lenType": 16,
    "lenVar": 40
   },
   "kernels_config": {
    "python": {
     "delete_cmd_postfix": "",
     "delete_cmd_prefix": "del ",
     "library": "var_list.py",
     "varRefreshCmd": "print(var_dic_list())"
    },
    "r": {
     "delete_cmd_postfix": ") ",
     "delete_cmd_prefix": "rm(",
     "library": "var_list.r",
     "varRefreshCmd": "cat(var_dic_list()) "
    }
   },
   "types_to_exclude": [
    "module",
    "function",
    "builtin_function_or_method",
    "instance",
    "_Feature"
   ],
   "window_display": false
  }
 },
 "nbformat": 4,
 "nbformat_minor": 5
}

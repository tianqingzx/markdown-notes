{
 "cells": [
  {
   "cell_type": "code",
   "execution_count": 24,
   "id": "neural-programming",
   "metadata": {
    "scrolled": true
   },
   "outputs": [
    {
     "data": {
      "text/plain": [
       "(<PIL.Image.Image image mode=L size=45x9 at 0x28D3192A520>,\n",
       " <PIL.Image.Image image mode=L size=45x9 at 0x28D3192A1F0>,\n",
       " <PIL.Image.Image image mode=L size=45x9 at 0x28D3192A400>)"
      ]
     },
     "execution_count": 24,
     "metadata": {},
     "output_type": "execute_result"
    }
   ],
   "source": [
    "from PIL import Image\n",
    "\n",
    "\n",
    "img=Image.open('E:/ai_learning_resource/hwdb/HWDB1/train/00000/56225.png')\n",
    "img.split()"
   ]
  },
  {
   "cell_type": "code",
   "execution_count": 25,
   "id": "proved-louisville",
   "metadata": {},
   "outputs": [
    {
     "data": {
      "text/plain": [
       "[12, 32, 8]"
      ]
     },
     "execution_count": 25,
     "metadata": {},
     "output_type": "execute_result"
    }
   ],
   "source": [
    "import os\n",
    "\n",
    "os.cpu_count()\n",
    "batch_size = 32\n",
    "[os.cpu_count(), batch_size if batch_size > 1 else 0, 8]"
   ]
  },
  {
   "cell_type": "code",
   "execution_count": 34,
   "id": "checked-finish",
   "metadata": {},
   "outputs": [
    {
     "name": "stdout",
     "output_type": "stream",
     "text": [
      "215 253\n"
     ]
    }
   ],
   "source": [
    "import glob\n",
    "\n",
    "root = 'E:\\\\ai_learning_resource\\\\hwdb\\\\HWDB1\\\\train\\\\'\n",
    "w_max = 0\n",
    "h_max = 0\n",
    "for clazz in sorted(os.listdir(os.path.join(root))):\n",
    "    for x in glob.glob(os.path.join(str(root), str(clazz), '*.png')):\n",
    "        img = Image.open(x).convert('RGB')\n",
    "        if w_max < img.size[0]:\n",
    "            \n",
    "            w_max = img.size[0]\n",
    "        if h_max < img.size[1]:\n",
    "            h_max = img.size[1]\n",
    "#         print(img.size, x)\n",
    "# clazz = sorted(os.listdir(os.path.join(root)))[1]\n",
    "print(w_max, h_max)  # 215, 253"
   ]
  }
 ],
 "metadata": {
  "hide_input": false,
  "kernelspec": {
   "display_name": "myenv",
   "language": "python",
   "name": "myenv"
  },
  "language_info": {
   "codemirror_mode": {
    "name": "ipython",
    "version": 3
   },
   "file_extension": ".py",
   "mimetype": "text/x-python",
   "name": "python",
   "nbconvert_exporter": "python",
   "pygments_lexer": "ipython3",
   "version": "3.8.5"
  },
  "toc": {
   "base_numbering": 1,
   "nav_menu": {},
   "number_sections": true,
   "sideBar": true,
   "skip_h1_title": false,
   "title_cell": "Table of Contents",
   "title_sidebar": "Contents",
   "toc_cell": false,
   "toc_position": {},
   "toc_section_display": true,
   "toc_window_display": false
  },
  "varInspector": {
   "cols": {
    "lenName": 16,
    "lenType": 16,
    "lenVar": 40
   },
   "kernels_config": {
    "python": {
     "delete_cmd_postfix": "",
     "delete_cmd_prefix": "del ",
     "library": "var_list.py",
     "varRefreshCmd": "print(var_dic_list())"
    },
    "r": {
     "delete_cmd_postfix": ") ",
     "delete_cmd_prefix": "rm(",
     "library": "var_list.r",
     "varRefreshCmd": "cat(var_dic_list()) "
    }
   },
   "types_to_exclude": [
    "module",
    "function",
    "builtin_function_or_method",
    "instance",
    "_Feature"
   ],
   "window_display": false
  }
 },
 "nbformat": 4,
 "nbformat_minor": 5
}
